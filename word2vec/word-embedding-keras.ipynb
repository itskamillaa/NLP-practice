{
 "cells": [
  {
   "cell_type": "code",
   "execution_count": 1,
   "metadata": {},
   "outputs": [
    {
     "name": "stdout",
     "output_type": "stream",
     "text": [
      "Collecting tensorflow\n",
      "  Downloading tensorflow-2.7.0-cp38-cp38-win_amd64.whl (430.8 MB)\n",
      "Requirement already satisfied: absl-py>=0.4.0 in f:\\anaconda\\lib\\site-packages (from tensorflow) (1.0.0)\n",
      "Collecting opt-einsum>=2.3.2\n",
      "  Downloading opt_einsum-3.3.0-py3-none-any.whl (65 kB)\n",
      "Requirement already satisfied: tensorboard~=2.6 in f:\\anaconda\\lib\\site-packages (from tensorflow) (2.6.0)\n",
      "Collecting keras<2.8,>=2.7.0rc0\n",
      "  Downloading keras-2.7.0-py2.py3-none-any.whl (1.3 MB)\n",
      "Requirement already satisfied: wheel<1.0,>=0.32.0 in f:\\anaconda\\lib\\site-packages (from tensorflow) (0.36.2)\n",
      "Requirement already satisfied: h5py>=2.9.0 in f:\\anaconda\\lib\\site-packages (from tensorflow) (2.10.0)\n",
      "Collecting tensorflow-estimator<2.8,~=2.7.0rc0\n",
      "  Downloading tensorflow_estimator-2.7.0-py2.py3-none-any.whl (463 kB)\n",
      "Collecting astunparse>=1.6.0\n",
      "  Downloading astunparse-1.6.3-py2.py3-none-any.whl (12 kB)\n",
      "Collecting google-pasta>=0.1.1\n",
      "  Downloading google_pasta-0.2.0-py3-none-any.whl (57 kB)\n",
      "Collecting termcolor>=1.1.0\n",
      "  Downloading termcolor-1.1.0.tar.gz (3.9 kB)\n",
      "Collecting flatbuffers<3.0,>=1.12\n",
      "  Downloading flatbuffers-2.0-py2.py3-none-any.whl (26 kB)\n",
      "Collecting gast<0.5.0,>=0.2.1\n",
      "  Downloading gast-0.4.0-py3-none-any.whl (9.8 kB)\n",
      "Requirement already satisfied: grpcio<2.0,>=1.24.3 in f:\\anaconda\\lib\\site-packages (from tensorflow) (1.42.0)\n",
      "Collecting tensorflow-io-gcs-filesystem>=0.21.0\n",
      "  Downloading tensorflow_io_gcs_filesystem-0.23.1-cp38-cp38-win_amd64.whl (1.5 MB)\n",
      "Collecting libclang>=9.0.1\n",
      "  Downloading libclang-12.0.0-2-py2.py3-none-win_amd64.whl (13.0 MB)\n",
      "Requirement already satisfied: wrapt>=1.11.0 in f:\\anaconda\\lib\\site-packages (from tensorflow) (1.12.1)\n",
      "Requirement already satisfied: six>=1.12.0 in f:\\anaconda\\lib\\site-packages (from tensorflow) (1.15.0)\n",
      "Collecting keras-preprocessing>=1.1.1\n",
      "  Downloading Keras_Preprocessing-1.1.2-py2.py3-none-any.whl (42 kB)\n",
      "Requirement already satisfied: numpy>=1.14.5 in f:\\anaconda\\lib\\site-packages (from tensorflow) (1.19.5)\n",
      "Requirement already satisfied: protobuf>=3.9.2 in f:\\anaconda\\lib\\site-packages (from tensorflow) (3.19.1)\n",
      "Requirement already satisfied: typing-extensions>=3.6.6 in f:\\anaconda\\lib\\site-packages (from tensorflow) (3.7.4.3)\n",
      "Requirement already satisfied: setuptools>=41.0.0 in f:\\anaconda\\lib\\site-packages (from tensorboard~=2.6->tensorflow) (52.0.0.post20210125)\n",
      "Requirement already satisfied: tensorboard-plugin-wit>=1.6.0 in f:\\anaconda\\lib\\site-packages (from tensorboard~=2.6->tensorflow) (1.8.0)\n",
      "Requirement already satisfied: google-auth<2,>=1.6.3 in f:\\anaconda\\lib\\site-packages (from tensorboard~=2.6->tensorflow) (1.35.0)\n",
      "Requirement already satisfied: google-auth-oauthlib<0.5,>=0.4.1 in f:\\anaconda\\lib\\site-packages (from tensorboard~=2.6->tensorflow) (0.4.6)\n",
      "Requirement already satisfied: tensorboard-data-server<0.7.0,>=0.6.0 in f:\\anaconda\\lib\\site-packages (from tensorboard~=2.6->tensorflow) (0.6.1)\n",
      "Requirement already satisfied: requests<3,>=2.21.0 in f:\\anaconda\\lib\\site-packages (from tensorboard~=2.6->tensorflow) (2.25.1)\n",
      "Requirement already satisfied: markdown>=2.6.8 in f:\\anaconda\\lib\\site-packages (from tensorboard~=2.6->tensorflow) (3.3.6)\n",
      "Requirement already satisfied: werkzeug>=0.11.15 in f:\\anaconda\\lib\\site-packages (from tensorboard~=2.6->tensorflow) (1.0.1)\n",
      "Requirement already satisfied: cachetools<5.0,>=2.0.0 in f:\\anaconda\\lib\\site-packages (from google-auth<2,>=1.6.3->tensorboard~=2.6->tensorflow) (4.2.4)\n",
      "Requirement already satisfied: pyasn1-modules>=0.2.1 in f:\\anaconda\\lib\\site-packages (from google-auth<2,>=1.6.3->tensorboard~=2.6->tensorflow) (0.2.8)\n",
      "Requirement already satisfied: rsa<5,>=3.1.4 in f:\\anaconda\\lib\\site-packages (from google-auth<2,>=1.6.3->tensorboard~=2.6->tensorflow) (4.8)\n",
      "Requirement already satisfied: requests-oauthlib>=0.7.0 in f:\\anaconda\\lib\\site-packages (from google-auth-oauthlib<0.5,>=0.4.1->tensorboard~=2.6->tensorflow) (1.3.0)\n",
      "Requirement already satisfied: importlib-metadata>=4.4 in f:\\anaconda\\lib\\site-packages (from markdown>=2.6.8->tensorboard~=2.6->tensorflow) (4.8.2)\n",
      "Requirement already satisfied: zipp>=0.5 in f:\\anaconda\\lib\\site-packages (from importlib-metadata>=4.4->markdown>=2.6.8->tensorboard~=2.6->tensorflow) (3.4.1)\n",
      "Requirement already satisfied: pyasn1<0.5.0,>=0.4.6 in f:\\anaconda\\lib\\site-packages (from pyasn1-modules>=0.2.1->google-auth<2,>=1.6.3->tensorboard~=2.6->tensorflow) (0.4.8)\n",
      "Requirement already satisfied: certifi>=2017.4.17 in f:\\anaconda\\lib\\site-packages (from requests<3,>=2.21.0->tensorboard~=2.6->tensorflow) (2020.12.5)\n",
      "Requirement already satisfied: urllib3<1.27,>=1.21.1 in f:\\anaconda\\lib\\site-packages (from requests<3,>=2.21.0->tensorboard~=2.6->tensorflow) (1.26.4)\n",
      "Requirement already satisfied: chardet<5,>=3.0.2 in f:\\anaconda\\lib\\site-packages (from requests<3,>=2.21.0->tensorboard~=2.6->tensorflow) (4.0.0)\n",
      "Requirement already satisfied: idna<3,>=2.5 in f:\\anaconda\\lib\\site-packages (from requests<3,>=2.21.0->tensorboard~=2.6->tensorflow) (2.10)\n",
      "Requirement already satisfied: oauthlib>=3.0.0 in f:\\anaconda\\lib\\site-packages (from requests-oauthlib>=0.7.0->google-auth-oauthlib<0.5,>=0.4.1->tensorboard~=2.6->tensorflow) (3.1.1)\n",
      "Building wheels for collected packages: termcolor\n",
      "  Building wheel for termcolor (setup.py): started\n",
      "  Building wheel for termcolor (setup.py): finished with status 'done'\n",
      "  Created wheel for termcolor: filename=termcolor-1.1.0-py3-none-any.whl size=4829 sha256=135d28d88afd34b8c8c6e3e94e49465aebc88b1294b35eb54d272e8553b84beb\n",
      "  Stored in directory: c:\\users\\kamil\\appdata\\local\\pip\\cache\\wheels\\a0\\16\\9c\\5473df82468f958445479c59e784896fa24f4a5fc024b0f501\n",
      "Successfully built termcolor\n",
      "Installing collected packages: termcolor, tensorflow-io-gcs-filesystem, tensorflow-estimator, opt-einsum, libclang, keras-preprocessing, keras, google-pasta, gast, flatbuffers, astunparse, tensorflow\n",
      "Successfully installed astunparse-1.6.3 flatbuffers-2.0 gast-0.4.0 google-pasta-0.2.0 keras-2.7.0 keras-preprocessing-1.1.2 libclang-12.0.0 opt-einsum-3.3.0 tensorflow-2.7.0 tensorflow-estimator-2.7.0 tensorflow-io-gcs-filesystem-0.23.1 termcolor-1.1.0\n"
     ]
    }
   ],
   "source": [
    "### Libraries used: Tensorflow > 2.0 and keras\n",
    "\n",
    "#!pip install tensorflow"
   ]
  },
  {
   "cell_type": "code",
   "execution_count": 2,
   "metadata": {},
   "outputs": [],
   "source": [
    "from tensorflow.keras.preprocessing.text import one_hot"
   ]
  },
  {
   "cell_type": "code",
   "execution_count": 3,
   "metadata": {},
   "outputs": [],
   "source": [
    "### sentences\n",
    "sent=[  'the glass of milk',\n",
    "     'the glass of juice',\n",
    "     'the cup of tea',\n",
    "    'I am a good boy',\n",
    "     'I am a good developer',\n",
    "     'understand the meaning of words',\n",
    "     'your videos are good',]\n",
    "     "
   ]
  },
  {
   "cell_type": "code",
   "execution_count": 4,
   "metadata": {},
   "outputs": [
    {
     "data": {
      "text/plain": [
       "['the glass of milk',\n",
       " 'the glass of juice',\n",
       " 'the cup of tea',\n",
       " 'I am a good boy',\n",
       " 'I am a good developer',\n",
       " 'understand the meaning of words',\n",
       " 'your videos are good']"
      ]
     },
     "execution_count": 4,
     "metadata": {},
     "output_type": "execute_result"
    }
   ],
   "source": [
    "sent"
   ]
  },
  {
   "cell_type": "code",
   "execution_count": 6,
   "metadata": {},
   "outputs": [],
   "source": [
    "#Vocabulary size\n",
    "voc_size = 10000"
   ]
  },
  {
   "cell_type": "markdown",
   "metadata": {},
   "source": [
    "### One Hot Encoding    "
   ]
  },
  {
   "cell_type": "code",
   "execution_count": 7,
   "metadata": {},
   "outputs": [
    {
     "data": {
      "text/plain": [
       "[[9806, 3646, 3452, 8607],\n",
       " [9806, 3646, 3452, 6924],\n",
       " [9806, 3540, 3452, 9825],\n",
       " [470, 7269, 8113, 5713, 4470],\n",
       " [470, 7269, 8113, 5713, 2965],\n",
       " [3175, 9806, 7080, 3452, 9588],\n",
       " [8260, 3428, 9129, 5713]]"
      ]
     },
     "execution_count": 7,
     "metadata": {},
     "output_type": "execute_result"
    }
   ],
   "source": [
    "onehot_repr=[one_hot(words,voc_size) for words in sent]\n",
    "onehot_repr"
   ]
  },
  {
   "cell_type": "markdown",
   "metadata": {},
   "source": [
    "### Word Embedding Representation\n"
   ]
  },
  {
   "cell_type": "code",
   "execution_count": 8,
   "metadata": {},
   "outputs": [],
   "source": [
    "from tensorflow.keras.layers import Embedding\n",
    "from tensorflow.keras.preprocessing.sequence import pad_sequences\n",
    "from tensorflow.keras.models import Sequential\n",
    "\n",
    "import numpy as np"
   ]
  },
  {
   "cell_type": "code",
   "execution_count": 9,
   "metadata": {},
   "outputs": [
    {
     "data": {
      "text/plain": [
       "array([[   0,    0,    0,    0, 9806, 3646, 3452, 8607],\n",
       "       [   0,    0,    0,    0, 9806, 3646, 3452, 6924],\n",
       "       [   0,    0,    0,    0, 9806, 3540, 3452, 9825],\n",
       "       [   0,    0,    0,  470, 7269, 8113, 5713, 4470],\n",
       "       [   0,    0,    0,  470, 7269, 8113, 5713, 2965],\n",
       "       [   0,    0,    0, 3175, 9806, 7080, 3452, 9588],\n",
       "       [   0,    0,    0,    0, 8260, 3428, 9129, 5713]])"
      ]
     },
     "execution_count": 9,
     "metadata": {},
     "output_type": "execute_result"
    }
   ],
   "source": [
    "#Fill in the space with zeros so that all sentences are of the same lengths\n",
    "sent_length = 8\n",
    "embedded_docs = pad_sequences(onehot_repr, padding = 'pre',maxlen=sent_length)\n",
    "embedded_docs"
   ]
  },
  {
   "cell_type": "code",
   "execution_count": 11,
   "metadata": {},
   "outputs": [],
   "source": [
    "dim = 10\n"
   ]
  },
  {
   "cell_type": "code",
   "execution_count": 12,
   "metadata": {},
   "outputs": [],
   "source": [
    "model = Sequential()\n",
    "model.add(Embedding(voc_size,dim,input_length=sent_length))\n",
    "model.compile('adam','mse')\n"
   ]
  },
  {
   "cell_type": "code",
   "execution_count": 13,
   "metadata": {},
   "outputs": [
    {
     "name": "stdout",
     "output_type": "stream",
     "text": [
      "Model: \"sequential_1\"\n",
      "_________________________________________________________________\n",
      " Layer (type)                Output Shape              Param #   \n",
      "=================================================================\n",
      " embedding (Embedding)       (None, 8, 10)             100000    \n",
      "                                                                 \n",
      "=================================================================\n",
      "Total params: 100,000\n",
      "Trainable params: 100,000\n",
      "Non-trainable params: 0\n",
      "_________________________________________________________________\n"
     ]
    }
   ],
   "source": [
    "model.summary()"
   ]
  },
  {
   "cell_type": "code",
   "execution_count": 14,
   "metadata": {},
   "outputs": [
    {
     "data": {
      "text/plain": [
       "array([[[-0.04612576, -0.02552131,  0.00759486,  0.00883349,\n",
       "          0.03373304, -0.02752751,  0.03951133,  0.04935961,\n",
       "          0.02494946, -0.04543444],\n",
       "        [-0.04612576, -0.02552131,  0.00759486,  0.00883349,\n",
       "          0.03373304, -0.02752751,  0.03951133,  0.04935961,\n",
       "          0.02494946, -0.04543444],\n",
       "        [-0.04612576, -0.02552131,  0.00759486,  0.00883349,\n",
       "          0.03373304, -0.02752751,  0.03951133,  0.04935961,\n",
       "          0.02494946, -0.04543444],\n",
       "        [-0.04612576, -0.02552131,  0.00759486,  0.00883349,\n",
       "          0.03373304, -0.02752751,  0.03951133,  0.04935961,\n",
       "          0.02494946, -0.04543444],\n",
       "        [-0.03827087,  0.03281777,  0.02688749, -0.0366254 ,\n",
       "          0.04456732,  0.04709481,  0.04682083,  0.02740628,\n",
       "         -0.01828287, -0.0290116 ],\n",
       "        [ 0.040556  , -0.0450149 ,  0.03233821,  0.00443522,\n",
       "         -0.03094921, -0.02836542,  0.02917799, -0.01165788,\n",
       "         -0.00054879, -0.01562511],\n",
       "        [-0.02369906, -0.00946314,  0.03088713,  0.045936  ,\n",
       "          0.01819256, -0.03797735,  0.03256266,  0.01336498,\n",
       "          0.00114067,  0.00421288],\n",
       "        [ 0.03949245, -0.00202987,  0.01527853, -0.04973632,\n",
       "         -0.04698525,  0.00590814,  0.03274787, -0.02594013,\n",
       "          0.0137603 ,  0.00733618]],\n",
       "\n",
       "       [[-0.04612576, -0.02552131,  0.00759486,  0.00883349,\n",
       "          0.03373304, -0.02752751,  0.03951133,  0.04935961,\n",
       "          0.02494946, -0.04543444],\n",
       "        [-0.04612576, -0.02552131,  0.00759486,  0.00883349,\n",
       "          0.03373304, -0.02752751,  0.03951133,  0.04935961,\n",
       "          0.02494946, -0.04543444],\n",
       "        [-0.04612576, -0.02552131,  0.00759486,  0.00883349,\n",
       "          0.03373304, -0.02752751,  0.03951133,  0.04935961,\n",
       "          0.02494946, -0.04543444],\n",
       "        [-0.04612576, -0.02552131,  0.00759486,  0.00883349,\n",
       "          0.03373304, -0.02752751,  0.03951133,  0.04935961,\n",
       "          0.02494946, -0.04543444],\n",
       "        [-0.03827087,  0.03281777,  0.02688749, -0.0366254 ,\n",
       "          0.04456732,  0.04709481,  0.04682083,  0.02740628,\n",
       "         -0.01828287, -0.0290116 ],\n",
       "        [ 0.040556  , -0.0450149 ,  0.03233821,  0.00443522,\n",
       "         -0.03094921, -0.02836542,  0.02917799, -0.01165788,\n",
       "         -0.00054879, -0.01562511],\n",
       "        [-0.02369906, -0.00946314,  0.03088713,  0.045936  ,\n",
       "          0.01819256, -0.03797735,  0.03256266,  0.01336498,\n",
       "          0.00114067,  0.00421288],\n",
       "        [-0.01111571,  0.00331472,  0.03266171, -0.02513008,\n",
       "          0.01925245,  0.00713408, -0.0490402 ,  0.04766226,\n",
       "          0.03270587, -0.03934024]],\n",
       "\n",
       "       [[-0.04612576, -0.02552131,  0.00759486,  0.00883349,\n",
       "          0.03373304, -0.02752751,  0.03951133,  0.04935961,\n",
       "          0.02494946, -0.04543444],\n",
       "        [-0.04612576, -0.02552131,  0.00759486,  0.00883349,\n",
       "          0.03373304, -0.02752751,  0.03951133,  0.04935961,\n",
       "          0.02494946, -0.04543444],\n",
       "        [-0.04612576, -0.02552131,  0.00759486,  0.00883349,\n",
       "          0.03373304, -0.02752751,  0.03951133,  0.04935961,\n",
       "          0.02494946, -0.04543444],\n",
       "        [-0.04612576, -0.02552131,  0.00759486,  0.00883349,\n",
       "          0.03373304, -0.02752751,  0.03951133,  0.04935961,\n",
       "          0.02494946, -0.04543444],\n",
       "        [-0.03827087,  0.03281777,  0.02688749, -0.0366254 ,\n",
       "          0.04456732,  0.04709481,  0.04682083,  0.02740628,\n",
       "         -0.01828287, -0.0290116 ],\n",
       "        [ 0.04854738, -0.03146064,  0.03232204,  0.00880765,\n",
       "         -0.03979496,  0.03012916, -0.03216038, -0.02122718,\n",
       "          0.04940717,  0.03007635],\n",
       "        [-0.02369906, -0.00946314,  0.03088713,  0.045936  ,\n",
       "          0.01819256, -0.03797735,  0.03256266,  0.01336498,\n",
       "          0.00114067,  0.00421288],\n",
       "        [ 0.04766284,  0.00399445,  0.04588589,  0.0222191 ,\n",
       "          0.02188813,  0.03722667, -0.03797317,  0.01013169,\n",
       "          0.00756136, -0.02791494]],\n",
       "\n",
       "       [[-0.04612576, -0.02552131,  0.00759486,  0.00883349,\n",
       "          0.03373304, -0.02752751,  0.03951133,  0.04935961,\n",
       "          0.02494946, -0.04543444],\n",
       "        [-0.04612576, -0.02552131,  0.00759486,  0.00883349,\n",
       "          0.03373304, -0.02752751,  0.03951133,  0.04935961,\n",
       "          0.02494946, -0.04543444],\n",
       "        [-0.04612576, -0.02552131,  0.00759486,  0.00883349,\n",
       "          0.03373304, -0.02752751,  0.03951133,  0.04935961,\n",
       "          0.02494946, -0.04543444],\n",
       "        [-0.01177106, -0.00470499,  0.03163609,  0.00121471,\n",
       "          0.0413366 , -0.01856599,  0.02906538,  0.01508203,\n",
       "          0.033516  ,  0.00354496],\n",
       "        [-0.04233787, -0.04321734,  0.04223001,  0.0408296 ,\n",
       "          0.02214687, -0.0108056 ,  0.02766457,  0.00329723,\n",
       "          0.0035942 , -0.01911005],\n",
       "        [ 0.01224607, -0.04098104,  0.04867918, -0.04189525,\n",
       "          0.030175  , -0.03560942, -0.04370235, -0.00738726,\n",
       "          0.02808739, -0.00876564],\n",
       "        [-0.04625326,  0.03838852, -0.00200916,  0.0188218 ,\n",
       "          0.02192727, -0.01477705,  0.04849551,  0.04449419,\n",
       "         -0.03627729, -0.03098935],\n",
       "        [-0.00305208,  0.035168  ,  0.00519193, -0.00673883,\n",
       "          0.02252072, -0.0219911 ,  0.04221754,  0.03544765,\n",
       "         -0.04635358,  0.03609235]],\n",
       "\n",
       "       [[-0.04612576, -0.02552131,  0.00759486,  0.00883349,\n",
       "          0.03373304, -0.02752751,  0.03951133,  0.04935961,\n",
       "          0.02494946, -0.04543444],\n",
       "        [-0.04612576, -0.02552131,  0.00759486,  0.00883349,\n",
       "          0.03373304, -0.02752751,  0.03951133,  0.04935961,\n",
       "          0.02494946, -0.04543444],\n",
       "        [-0.04612576, -0.02552131,  0.00759486,  0.00883349,\n",
       "          0.03373304, -0.02752751,  0.03951133,  0.04935961,\n",
       "          0.02494946, -0.04543444],\n",
       "        [-0.01177106, -0.00470499,  0.03163609,  0.00121471,\n",
       "          0.0413366 , -0.01856599,  0.02906538,  0.01508203,\n",
       "          0.033516  ,  0.00354496],\n",
       "        [-0.04233787, -0.04321734,  0.04223001,  0.0408296 ,\n",
       "          0.02214687, -0.0108056 ,  0.02766457,  0.00329723,\n",
       "          0.0035942 , -0.01911005],\n",
       "        [ 0.01224607, -0.04098104,  0.04867918, -0.04189525,\n",
       "          0.030175  , -0.03560942, -0.04370235, -0.00738726,\n",
       "          0.02808739, -0.00876564],\n",
       "        [-0.04625326,  0.03838852, -0.00200916,  0.0188218 ,\n",
       "          0.02192727, -0.01477705,  0.04849551,  0.04449419,\n",
       "         -0.03627729, -0.03098935],\n",
       "        [-0.04836056,  0.01040448, -0.01031469, -0.00053937,\n",
       "         -0.02361659,  0.04168052,  0.03167666,  0.03624824,\n",
       "         -0.02264979, -0.00527297]],\n",
       "\n",
       "       [[-0.04612576, -0.02552131,  0.00759486,  0.00883349,\n",
       "          0.03373304, -0.02752751,  0.03951133,  0.04935961,\n",
       "          0.02494946, -0.04543444],\n",
       "        [-0.04612576, -0.02552131,  0.00759486,  0.00883349,\n",
       "          0.03373304, -0.02752751,  0.03951133,  0.04935961,\n",
       "          0.02494946, -0.04543444],\n",
       "        [-0.04612576, -0.02552131,  0.00759486,  0.00883349,\n",
       "          0.03373304, -0.02752751,  0.03951133,  0.04935961,\n",
       "          0.02494946, -0.04543444],\n",
       "        [-0.03966798, -0.0248154 ,  0.0453486 ,  0.00437053,\n",
       "         -0.02525183,  0.01466418,  0.04534365, -0.01881677,\n",
       "         -0.01417813, -0.01045903],\n",
       "        [-0.03827087,  0.03281777,  0.02688749, -0.0366254 ,\n",
       "          0.04456732,  0.04709481,  0.04682083,  0.02740628,\n",
       "         -0.01828287, -0.0290116 ],\n",
       "        [-0.01796783,  0.01260406, -0.00460219, -0.02306489,\n",
       "          0.0467649 , -0.01824126,  0.03016242,  0.03304472,\n",
       "          0.0266261 ,  0.00386332],\n",
       "        [-0.02369906, -0.00946314,  0.03088713,  0.045936  ,\n",
       "          0.01819256, -0.03797735,  0.03256266,  0.01336498,\n",
       "          0.00114067,  0.00421288],\n",
       "        [ 0.00017215, -0.00094285, -0.00403696, -0.01856197,\n",
       "         -0.02486221, -0.04539828,  0.04383339, -0.04446021,\n",
       "         -0.04448337, -0.03955841]],\n",
       "\n",
       "       [[-0.04612576, -0.02552131,  0.00759486,  0.00883349,\n",
       "          0.03373304, -0.02752751,  0.03951133,  0.04935961,\n",
       "          0.02494946, -0.04543444],\n",
       "        [-0.04612576, -0.02552131,  0.00759486,  0.00883349,\n",
       "          0.03373304, -0.02752751,  0.03951133,  0.04935961,\n",
       "          0.02494946, -0.04543444],\n",
       "        [-0.04612576, -0.02552131,  0.00759486,  0.00883349,\n",
       "          0.03373304, -0.02752751,  0.03951133,  0.04935961,\n",
       "          0.02494946, -0.04543444],\n",
       "        [-0.04612576, -0.02552131,  0.00759486,  0.00883349,\n",
       "          0.03373304, -0.02752751,  0.03951133,  0.04935961,\n",
       "          0.02494946, -0.04543444],\n",
       "        [ 0.04134996,  0.01427129, -0.0087666 ,  0.02994056,\n",
       "         -0.01661428,  0.00192631, -0.04726857,  0.02695949,\n",
       "         -0.00010562,  0.04745436],\n",
       "        [-0.04978855,  0.01329629,  0.01856926,  0.04848298,\n",
       "         -0.03754646,  0.03018823, -0.04134251, -0.01684552,\n",
       "          0.04007651, -0.02134423],\n",
       "        [ 0.00115941,  0.00924892, -0.02886796,  0.0090415 ,\n",
       "          0.04304961,  0.01281783, -0.03601573,  0.00337775,\n",
       "          0.04650098,  0.02105056],\n",
       "        [-0.04625326,  0.03838852, -0.00200916,  0.0188218 ,\n",
       "          0.02192727, -0.01477705,  0.04849551,  0.04449419,\n",
       "         -0.03627729, -0.03098935]]], dtype=float32)"
      ]
     },
     "execution_count": 14,
     "metadata": {},
     "output_type": "execute_result"
    }
   ],
   "source": [
    "model.predict(embedded_docs)\n"
   ]
  },
  {
   "cell_type": "code",
   "execution_count": 15,
   "metadata": {},
   "outputs": [
    {
     "data": {
      "text/plain": [
       "array([   0,    0,    0,    0, 9806, 3646, 3452, 8607])"
      ]
     },
     "execution_count": 15,
     "metadata": {},
     "output_type": "execute_result"
    }
   ],
   "source": [
    "embedded_docs[0]"
   ]
  },
  {
   "cell_type": "code",
   "execution_count": 17,
   "metadata": {},
   "outputs": [
    {
     "data": {
      "text/plain": [
       "array([[-0.04612576, -0.02552131,  0.00759486,  0.00883349,  0.03373304,\n",
       "        -0.02752751,  0.03951133,  0.04935961,  0.02494946, -0.04543444],\n",
       "       [-0.04612576, -0.02552131,  0.00759486,  0.00883349,  0.03373304,\n",
       "        -0.02752751,  0.03951133,  0.04935961,  0.02494946, -0.04543444],\n",
       "       [-0.04612576, -0.02552131,  0.00759486,  0.00883349,  0.03373304,\n",
       "        -0.02752751,  0.03951133,  0.04935961,  0.02494946, -0.04543444],\n",
       "       [-0.04612576, -0.02552131,  0.00759486,  0.00883349,  0.03373304,\n",
       "        -0.02752751,  0.03951133,  0.04935961,  0.02494946, -0.04543444],\n",
       "       [-0.03827087,  0.03281777,  0.02688749, -0.0366254 ,  0.04456732,\n",
       "         0.04709481,  0.04682083,  0.02740628, -0.01828287, -0.0290116 ],\n",
       "       [ 0.040556  , -0.0450149 ,  0.03233821,  0.00443522, -0.03094921,\n",
       "        -0.02836542,  0.02917799, -0.01165788, -0.00054879, -0.01562511],\n",
       "       [-0.02369906, -0.00946314,  0.03088713,  0.045936  ,  0.01819256,\n",
       "        -0.03797735,  0.03256266,  0.01336498,  0.00114067,  0.00421288],\n",
       "       [ 0.03949245, -0.00202987,  0.01527853, -0.04973632, -0.04698525,\n",
       "         0.00590814,  0.03274787, -0.02594013,  0.0137603 ,  0.00733618]],\n",
       "      dtype=float32)"
      ]
     },
     "execution_count": 17,
     "metadata": {},
     "output_type": "execute_result"
    }
   ],
   "source": [
    "model.predict(embedded_docs)[0]\n"
   ]
  }
 ],
 "metadata": {
  "interpreter": {
   "hash": "34dfee18d5f4a96df9a8fcc719c91cf50e8ed50de2aa108bf45cd20982063274"
  },
  "kernelspec": {
   "display_name": "Python 3.8.8 64-bit ('base': conda)",
   "language": "python",
   "name": "python3"
  },
  "language_info": {
   "codemirror_mode": {
    "name": "ipython",
    "version": 3
   },
   "file_extension": ".py",
   "mimetype": "text/x-python",
   "name": "python",
   "nbconvert_exporter": "python",
   "pygments_lexer": "ipython3",
   "version": "3.8.8"
  },
  "orig_nbformat": 4
 },
 "nbformat": 4,
 "nbformat_minor": 2
}
